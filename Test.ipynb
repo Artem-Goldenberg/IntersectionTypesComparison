{
 "cells": [
  {
   "cell_type": "code",
   "execution_count": 45,
   "metadata": {},
   "outputs": [],
   "source": [
    "%reload_ext autoreload\n",
    "%autoreload 2\n",
    "from main import *\n",
    "from type import *\n",
    "from utils import *"
   ]
  },
  {
   "cell_type": "code",
   "execution_count": 47,
   "metadata": {},
   "outputs": [
    {
     "name": "stdout",
     "output_type": "stream",
     "text": [
      "top = a -> a\n",
      "one = (a -> b) -> a -> b\n",
      "two = ((a -> b) /\\ (b -> c)) -> a -> c\n",
      "three = ((a -> b) /\\ (b -> c) /\\ (c -> d)) -> a -> d\n",
      "omega1 = ((a -> b) /\\ a) -> b\n",
      "omega2 = ((a -> (b -> c)) /\\ a /\\ b) -> c\n",
      "omega3 = ((b -> c) /\\ (a -> b) /\\ a) -> c\n",
      "test1 = a -> (a -> b) -> b\n",
      "test2 = ((b -> c) /\\ a) -> (a -> b) -> c\n",
      "test3 = ((a -> b -> c) /\\ b) -> a -> c\n",
      "test4 = ((a -> a) -> b) -> b\n",
      "test5 = (((ω -> b) -> c) /\\ ((a -> a) -> b)) -> c\n",
      "test6 = (((a -> b) -> c) /\\ ((ω -> a) -> b)) -> c\n",
      "kcomb = a -> ω -> a\n",
      "kastcomb = ω -> a -> a\n",
      "ccomb = (a -> b -> c) -> b -> a -> c\n",
      "bcomb = (b -> c) -> (a -> b) -> a -> c\n",
      "scomb = (a -> c -> d) -> (b -> c) -> (a /\\ b) -> c\n",
      "sscomb = (b -> c -> d) -> ((a -> d -> e) /\\ b) -> (a /\\ c) -> e\n",
      "ssscomb = ((a -> b -> f -> g) /\\ (c -> d)) -> (a /\\ (d -> e -> f) /\\ c) -> (b /\\ e) -> g\n",
      "ucomb = (a -> e -> f) -> (b -> d -> e) -> (c -> d) -> (a /\\ b /\\ c) -> f\n",
      "diagP = ((a -> b) /\\ (c -> d)) -> (a /\\ c) -> (b -> d -> e) -> e\n",
      "zero = ω -> a -> a\n"
     ]
    }
   ],
   "source": [
    "for k, v in types.items():\n",
    "    print(f\"{k} = {v}\")"
   ]
  },
  {
   "cell_type": "code",
   "execution_count": 44,
   "metadata": {},
   "outputs": [
    {
     "name": "stdout",
     "output_type": "stream",
     "text": [
      "(a -> (a -> b) -> b) /\\ ((a -> b) -> a -> b) /\\ ((ω) -> a -> a) /\\ (((a -> b) /\\ (b -> c)) -> a -> c) /\\ (((a -> b) /\\ (b -> c) /\\ (c -> d)) -> a -> d)\n"
     ]
    }
   ],
   "source": [
    "top = types[\"top\"]\n",
    "\n",
    "zero = types[\"zero\"] \n",
    "test1 = types[\"test1\"] \n",
    "one = types[\"one\"]\n",
    "two = types[\"two\"]\n",
    "three = types[\"three\"]\n",
    "\n",
    "d = Intersection([zero, test1, one, two, three])\n",
    "\n",
    "# ssscom\n",
    "print(typeSort(d))"
   ]
  }
 ],
 "metadata": {
  "kernelspec": {
   "display_name": "Python 3",
   "language": "python",
   "name": "python3"
  },
  "language_info": {
   "codemirror_mode": {
    "name": "ipython",
    "version": 3
   },
   "file_extension": ".py",
   "mimetype": "text/x-python",
   "name": "python",
   "nbconvert_exporter": "python",
   "pygments_lexer": "ipython3",
   "version": "3.10.13"
  }
 },
 "nbformat": 4,
 "nbformat_minor": 2
}
