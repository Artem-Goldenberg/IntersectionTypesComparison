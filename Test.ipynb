{
 "cells": [
  {
   "cell_type": "code",
   "execution_count": 34,
   "metadata": {},
   "outputs": [],
   "source": [
    "%reload_ext autoreload\n",
    "%autoreload 2\n",
    "from main import *\n",
    "from type import *\n",
    "from utils import *\n",
    "from algorithm import *\n",
    "from test import *\n",
    "import random"
   ]
  },
  {
   "cell_type": "code",
   "execution_count": 35,
   "metadata": {},
   "outputs": [
    {
     "name": "stdout",
     "output_type": "stream",
     "text": [
      "top = a -> a\n",
      "one = (a -> b) -> a -> b\n",
      "two = ((b -> c) /\\ (a -> b)) -> a -> c\n",
      "three = ((c -> d) /\\ (b -> c) /\\ (a -> b)) -> a -> d\n",
      "omega1 = ((a -> b) /\\ a) -> b\n",
      "omega2 = ((a -> (b -> c)) /\\ a /\\ b) -> c\n",
      "omega3 = ((b -> c) /\\ (a -> b) /\\ a) -> c\n",
      "test1 = a -> (a -> b) -> b\n",
      "test2 = ((b -> c) /\\ a) -> (a -> b) -> c\n",
      "test3 = ((a -> b -> c) /\\ b) -> a -> c\n",
      "test4 = ((a -> a) -> b) -> b\n",
      "test5 = (((ω -> b) -> c) /\\ ((a -> a) -> b)) -> c\n",
      "test6 = (((a -> b) -> c) /\\ ((ω -> a) -> b)) -> c\n",
      "kcomb = a -> ω -> a\n",
      "kastcomb = ω -> a -> a\n",
      "ccomb = (a -> b -> c) -> b -> a -> c\n",
      "bcomb = (b -> c) -> (a -> b) -> a -> c\n",
      "scomb = (a -> c -> d) -> (b -> c) -> (a /\\ b) -> d\n",
      "sscomb = (b -> c -> d) -> ((a -> d -> e) /\\ b) -> (a /\\ c) -> e\n",
      "ssscomb = ((a -> b -> f -> g) /\\ (c -> d)) -> (a /\\ (d -> e -> f) /\\ c) -> (b /\\ e) -> g\n",
      "ucomb = (a -> e -> f) -> (b -> d -> e) -> (c -> d) -> (a /\\ b /\\ c) -> f\n",
      "diagP = ((a -> b) /\\ (c -> d)) -> (a /\\ c) -> (b -> d -> e) -> e\n",
      "zero = ω -> a -> a\n"
     ]
    }
   ],
   "source": [
    "for k, v in types.items():\n",
    "    print(f\"{k} = {v}\")"
   ]
  },
  {
   "cell_type": "code",
   "execution_count": 53,
   "metadata": {},
   "outputs": [
    {
     "name": "stdout",
     "output_type": "stream",
     "text": [
      "(((a2 -> a1) /\\ (a0 -> a2) /\\ (a1 -> a0)) -> a1 -> a1) /\\ ((a3 -> a1 -> a2) -> (a2 -> a1) -> (a3 /\\ a2) -> a2) /\\ ((((a2 -> a3) -> a2) /\\ ((ω -> a2) -> a3)) -> a2) /\\ (((a0 -> a2) /\\ a0) -> a2) /\\ ((a0 -> a3) -> (a2 -> a0) -> a2 -> a3) /\\ (a3 -> a3) /\\ (((a3 -> a2) /\\ a3) -> (a3 -> a3) -> a2) /\\ (ω -> a0 -> a0) /\\ (a1 -> ω -> a1) /\\ (((a3 -> a3 -> a2) /\\ a3) -> a3 -> a2) /\\ (ω -> a3 -> a3) /\\ ((((ω -> a2) -> a2) /\\ ((a0 -> a0) -> a2)) -> a2) /\\ ((((a2 -> a2) -> a0) /\\ ((ω -> a2) -> a2)) -> a0) /\\ (((a2 -> a3) /\\ a2) -> (a2 -> a2) -> a3) /\\ ((a3 -> a2) -> a3 -> a2) /\\ (a3 -> ω -> a3) /\\ (((a1 -> a3) /\\ a2) -> (a2 -> a1) -> a3) /\\ (ω -> a3 -> a3) /\\ (a0 -> ω -> a0) /\\ (((((a2 -> a0) /\\ (a2 -> a2) /\\ a2) -> a0) /\\ ((a1 -> a3) -> a1 -> a3) /\\ ((a2 -> a3) -> a2 -> a3) /\\ (((a2 -> a3) /\\ (a1 -> a2) /\\ a1) -> a3) /\\ ((((a1 -> a1) -> a1) /\\ ((ω -> a1) -> a1)) -> a1) /\\ ((a1 -> a0 -> a1) -> a0 -> a1 -> a1) /\\ (a1 -> (a1 -> a0) -> a0) /\\ (ω -> a3 -> a3) /\\ (a0 -> ω -> a0) /\\ (((a1 -> a0 -> a3 -> a0) /\\ (a0 -> a3)) -> (a1 /\\ (a3 -> a3 -> a3) /\\ a0) -> (a0 /\\ a3) -> a0) /\\ (a3 -> (a3 -> a2) -> a2) /\\ (ω -> a1 -> a1) /\\ (((a1 -> a2) /\\ a1) -> a2) /\\ (((a1 -> a2) /\\ (a2 -> a1) /\\ a2) -> a2) /\\ (((a1 -> a2) /\\ (a1 -> a1) /\\ (a2 -> a1)) -> a2 -> a2) /\\ ((a3 -> a2 -> a1) -> (a1 -> a3 -> a2) -> (a1 -> a3) -> (a3 /\\ a1 /\\ a1) -> a1) /\\ (((a1 -> a2 -> a1 -> a2) /\\ (a2 -> a1)) -> (a1 /\\ (a1 -> a2 -> a1) /\\ a2) -> (a2 /\\ a2) -> a2) /\\ (((a0 -> a1) /\\ (a0 -> a0)) -> a0 -> a1) /\\ (((a0 -> a3) /\\ (a0 -> a1)) -> (a0 /\\ a0) -> (a3 -> a1 -> a1) -> a1) /\\ (((a3 -> ω -> a3) /\\ (((a1 -> a0) /\\ (a2 -> a1)) -> (a1 /\\ a2) -> (a0 -> a1 -> a1) -> a1) /\\ (((a1 -> a3) /\\ (a1 -> a1) /\\ a1) -> a3) /\\ (((a2 -> a2 -> a3) /\\ a2) -> a2 -> a3) /\\ (((a1 -> a0 -> a3) /\\ a0) -> a1 -> a3) /\\ (((a0 -> a3) /\\ (a0 -> a0)) -> (a0 /\\ a0) -> (a3 -> a0 -> a1) -> a1) /\\ (((a1 -> a3) /\\ (a3 -> a1) /\\ (a3 -> a3)) -> a3 -> a3) /\\ (((a1 -> a2 -> a3 -> a1) /\\ (a3 -> a3)) -> (a1 /\\ (a3 -> a3 -> a3) /\\ a3) -> (a2 /\\ a3) -> a1) /\\ ((a1 -> a3) -> a1 -> a3) /\\ (((a1 -> a0) /\\ a0) -> (a0 -> a1) -> a0) /\\ (((a2 -> a3 -> a1 -> a1) /\\ (a2 -> a3)) -> (a2 /\\ (a3 -> a2 -> a1) /\\ a2) -> (a3 /\\ a2) -> a1) /\\ (a3 -> ω -> a3) /\\ (((a0 -> a1) /\\ (a1 -> a0)) -> a1 -> a1) /\\ (((a2 -> a2) /\\ (a0 -> a2)) -> (a2 /\\ a0) -> (a2 -> a2 -> a1) -> a1) /\\ ((a2 -> a0) -> a2 -> a0) /\\ (ω -> a1 -> a1) /\\ (((a3 -> a3) /\\ a0) -> (a0 -> a3) -> a3) /\\ (((a0 -> a3) /\\ a0) -> a3) /\\ (((a0 -> a2) /\\ (a2 -> a0) /\\ (a2 -> a2)) -> a2 -> a2) /\\ (((((a1 -> a1 -> a0) /\\ a1) -> a1 -> a0) /\\ (((a2 -> a2) -> a2) -> a2) /\\ (ω -> a3 -> a3) /\\ (((a1 -> a1) /\\ (a0 -> a1)) -> (a1 /\\ a0) -> (a1 -> a1 -> a3) -> a3) /\\ ((a3 -> a2) -> a3 -> a2) /\\ (((a1 -> a1) /\\ a1) -> a1) /\\ (ω -> a3 -> a3) /\\ (a0 -> (a0 -> a0) -> a0) /\\ (a1 -> ω -> a1) /\\ (((a2 -> a1) /\\ (a0 -> a2)) -> a0 -> a1) /\\ (a2 -> (a2 -> a2) -> a2) /\\ (a0 -> ω -> a0) /\\ ((a3 -> a2) -> a3 -> a2) /\\ (((a3 -> a0) /\\ (a0 -> a3) /\\ (a3 -> a0)) -> a3 -> a0) /\\ (((a2 -> (a2 -> a1)) /\\ a2 /\\ a2) -> a1) /\\ ((a2 -> a3 -> a2) -> (a2 -> a3) -> (a2 /\\ a2) -> a2) /\\ ((a2 -> a1 -> a3) -> (a2 -> a3 -> a1) -> (a2 -> a3) -> (a2 /\\ a2 /\\ a2) -> a3) /\\ (ω -> a1 -> a1) /\\ (((a0 -> a0) -> a1) -> a1) /\\ (((((a -> b -> f -> g) /\\ (c -> d)) -> (a /\\ (d -> e -> f) /\\ c) -> (b /\\ e) -> g) /\\ ((b -> c -> d) -> ((a -> d -> e) /\\ b) -> (a /\\ c) -> e) /\\ (((a -> (b -> c)) /\\ a /\\ b) -> c) /\\ ((b -> c) -> (a -> b) -> a -> c) /\\ (((a -> b) /\\ a) -> b) /\\ ((b -> c -> d) -> ((a -> d -> e) /\\ b) -> (a /\\ c) -> e) /\\ (a -> ω -> a) /\\ (((b -> c) /\\ a) -> (a -> b) -> c) /\\ (((a -> a) -> b) -> b) /\\ ((b -> c) -> (a -> b) -> a -> c) /\\ (((a -> b -> c) /\\ b) -> a -> c) /\\ (ω -> a -> a) /\\ ((b -> c -> d) -> ((a -> d -> e) /\\ b) -> (a /\\ c) -> e) /\\ (((b -> c) /\\ (a -> b) /\\ a) -> c) /\\ (((b -> c) /\\ (a -> b)) -> a -> c) /\\ (((a -> b -> f -> g) /\\ (c -> d)) -> (a /\\ (d -> e -> f) /\\ c) -> (b /\\ e) -> g) /\\ (((b -> c) /\\ (a -> b)) -> a -> c) /\\ (((b -> c) /\\ a) -> (a -> b) -> c) /\\ ((a -> c -> d) -> (b -> c) -> (a /\\ b) -> d) /\\ (a -> a)) -> a0)) -> a1)) -> a2)) -> a3)\n",
      "{a -> d, a0 -> a, a1 -> b, a2 -> e, a3 -> a2, b -> a0, c -> f, d -> c, e -> g, f -> a1, g -> a3}\n"
     ]
    }
   ],
   "source": [
    "t, s, r = deepType(4, 20, 4)\n",
    "print(t)\n",
    "print(r)"
   ]
  },
  {
   "cell_type": "code",
   "execution_count": 59,
   "metadata": {},
   "outputs": [
    {
     "name": "stdout",
     "output_type": "stream",
     "text": [
      "a12 /\\ a5 /\\ a2 /\\ (a12 -> a12) /\\ (ω -> a3 -> a3) /\\ (a13 -> a13) /\\ ((a7 /\\ a13 /\\ a1 /\\ a7 /\\ a9 /\\ a8 /\\ ((a4 /\\ a5 /\\ a4 /\\ a8 /\\ a12 /\\ (ω -> a11 -> a11) /\\ ((a9 /\\ a2 /\\ a3 /\\ a1 /\\ a3 /\\ (((a0 -> a4) /\\ (a6 -> a0) /\\ (a6 -> a6)) -> a6 -> a4) /\\ ((a0 /\\ a4 /\\ a4 /\\ a10 /\\ (((a0 -> a11) /\\ (a1 -> a0) /\\ a1) -> a11) /\\ (((a13 -> a5) /\\ a8) -> (a8 -> a13) -> a5) /\\ ((a12 /\\ a4 /\\ a0 /\\ (ω -> a0 -> a0) /\\ (ω -> a0 -> a0) /\\ (((a10 -> a7) /\\ a10) -> a7) /\\ ((a5 /\\ a8 /\\ a4 /\\ a11 /\\ a1 /\\ (((a5 -> a2 -> a13 -> a0) /\\ (a10 -> a6)) -> (a5 /\\ (a6 -> a10 -> a13) /\\ a10) -> (a2 /\\ a10) -> a0) /\\ (((((c -> d) /\\ (b -> c) /\\ (a -> b)) -> a -> d) /\\ (a -> a) /\\ (a -> ω -> a) /\\ (((a -> b) /\\ a) -> b) /\\ (((b -> c) /\\ a) -> (a -> b) -> c) /\\ ((b -> c) -> (a -> b) -> a -> c) /\\ (((a -> a) -> b) -> b)) -> a0)) -> a1)) -> a2)) -> a3)) -> a4)) -> a5)) -> a6)\n",
      "{a -> a13, a0 -> d, a1 -> a5, a10 -> a4, a11 -> a6, a12 -> c, a13 -> a8, a2 -> a9, a3 -> a1, a4 -> a12, a5 -> a7, a6 -> a0, a7 -> a10, a8 -> b, a9 -> a, b -> a2, c -> a3, d -> a11}\n"
     ]
    }
   ],
   "source": [
    "t, s, r = manyVariables(7)\n",
    "print(t)\n",
    "print(r)"
   ]
  },
  {
   "cell_type": "code",
   "execution_count": 60,
   "metadata": {},
   "outputs": [
    {
     "ename": "KeyboardInterrupt",
     "evalue": "",
     "output_type": "error",
     "traceback": [
      "\u001b[0;31m---------------------------------------------------------------------------\u001b[0m",
      "\u001b[0;31mKeyboardInterrupt\u001b[0m                         Traceback (most recent call last)",
      "Cell \u001b[0;32mIn[60], line 1\u001b[0m\n\u001b[0;32m----> 1\u001b[0m \u001b[43mnaiveComparison\u001b[49m\u001b[43m(\u001b[49m\u001b[43mt\u001b[49m\u001b[43m,\u001b[49m\u001b[43m \u001b[49m\u001b[43ms\u001b[49m\u001b[43m)\u001b[49m\n",
      "File \u001b[0;32m~/Developer/NPAlgorithm/main.py:125\u001b[0m, in \u001b[0;36mnaiveComparison\u001b[0;34m(t, s)\u001b[0m\n\u001b[1;32m    118\u001b[0m g \u001b[38;5;241m=\u001b[39m getRenaming(sVarsList, current, \u001b[38;5;241m0\u001b[39m, \u001b[38;5;28mlen\u001b[39m(tVars))\n\u001b[1;32m    120\u001b[0m \u001b[38;5;28;01mfor\u001b[39;00m renaming \u001b[38;5;129;01min\u001b[39;00m g:\n\u001b[1;32m    121\u001b[0m \u001b[38;5;66;03m# renaming = Renaming([[a, init] for a in tVars])\u001b[39;00m\n\u001b[1;32m    122\u001b[0m \u001b[38;5;66;03m# for p in itertools.permutations(sVarsList):\u001b[39;00m\n\u001b[1;32m    123\u001b[0m \u001b[38;5;66;03m#     for i in range(len(renaming.subs)):\u001b[39;00m\n\u001b[1;32m    124\u001b[0m \u001b[38;5;66;03m#         renaming.subs[i][1] = p[i]\u001b[39;00m\n\u001b[0;32m--> 125\u001b[0m     \u001b[38;5;28;01mif\u001b[39;00m \u001b[38;5;129;01mnot\u001b[39;00m \u001b[43mcheckRenaming\u001b[49m\u001b[43m(\u001b[49m\u001b[43mrenaming\u001b[49m\u001b[43m,\u001b[49m\u001b[43m \u001b[49m\u001b[43msVarsList\u001b[49m\u001b[43m)\u001b[49m:\n\u001b[1;32m    126\u001b[0m         \u001b[38;5;28;01mcontinue\u001b[39;00m\n\u001b[1;32m    128\u001b[0m     t1 \u001b[38;5;241m=\u001b[39m typeSort(renaming\u001b[38;5;241m.\u001b[39mapplyTo(t))\n",
      "File \u001b[0;32m~/Developer/NPAlgorithm/main.py:95\u001b[0m, in \u001b[0;36mcheckRenaming\u001b[0;34m(s, sVars)\u001b[0m\n\u001b[1;32m     92\u001b[0m         \u001b[38;5;28;01mfor\u001b[39;00m i \u001b[38;5;129;01min\u001b[39;00m \u001b[38;5;28mrange\u001b[39m(index \u001b[38;5;241m+\u001b[39m \u001b[38;5;241m1\u001b[39m, stop):\n\u001b[1;32m     93\u001b[0m             current\u001b[38;5;241m.\u001b[39msubs[i][\u001b[38;5;241m1\u001b[39m] \u001b[38;5;241m=\u001b[39m init\n\u001b[0;32m---> 95\u001b[0m \u001b[38;5;28;01mdef\u001b[39;00m \u001b[38;5;21mcheckRenaming\u001b[39m(s: Renaming, sVars: \u001b[38;5;28mlist\u001b[39m[Variable]) \u001b[38;5;241m-\u001b[39m\u001b[38;5;241m>\u001b[39m \u001b[38;5;28mbool\u001b[39m:\n\u001b[1;32m     96\u001b[0m     \u001b[38;5;28;01mfor\u001b[39;00m b \u001b[38;5;129;01min\u001b[39;00m sVars:\n\u001b[1;32m     97\u001b[0m         \u001b[38;5;28;01mif\u001b[39;00m s\u001b[38;5;241m.\u001b[39minverse(b) \u001b[38;5;129;01mis\u001b[39;00m \u001b[38;5;28;01mNone\u001b[39;00m:\n",
      "\u001b[0;31mKeyboardInterrupt\u001b[0m: "
     ]
    }
   ],
   "source": [
    "naiveComparison(t, s)"
   ]
  },
  {
   "cell_type": "code",
   "execution_count": 61,
   "metadata": {},
   "outputs": [
    {
     "name": "stdout",
     "output_type": "stream",
     "text": [
      "250 ms ± 1.35 ms per loop (mean ± std. dev. of 7 runs, 1 loop each)\n"
     ]
    }
   ],
   "source": [
    "%%timeit\n",
    "comparePlain(t, s)"
   ]
  },
  {
   "cell_type": "code",
   "execution_count": 62,
   "metadata": {},
   "outputs": [
    {
     "name": "stdout",
     "output_type": "stream",
     "text": [
      "29.8 ms ± 3.88 ms per loop (mean ± std. dev. of 7 runs, 10 loops each)\n"
     ]
    }
   ],
   "source": [
    "%%timeit\n",
    "compareSizeClasses(t, s)"
   ]
  },
  {
   "cell_type": "code",
   "execution_count": 63,
   "metadata": {},
   "outputs": [
    {
     "name": "stdout",
     "output_type": "stream",
     "text": [
      "254 ms ± 2.99 ms per loop (mean ± std. dev. of 7 runs, 1 loop each)\n"
     ]
    }
   ],
   "source": [
    "%%timeit\n",
    "compareConstraintProp(t, s)"
   ]
  },
  {
   "cell_type": "code",
   "execution_count": 64,
   "metadata": {},
   "outputs": [
    {
     "name": "stdout",
     "output_type": "stream",
     "text": [
      "5.59 ms ± 160 µs per loop (mean ± std. dev. of 7 runs, 100 loops each)\n"
     ]
    }
   ],
   "source": [
    "%%timeit\n",
    "compareConstraintPropSizeClasses(t, s)"
   ]
  },
  {
   "cell_type": "code",
   "execution_count": 2,
   "metadata": {},
   "outputs": [
    {
     "name": "stdout",
     "output_type": "stream",
     "text": [
      "a4 /\\ a8 /\\ a3 /\\ a2 /\\ a10 /\\ a17 /\\ a8 /\\ (((a10 -> a8 -> a13) /\\ a8) -> a10 -> a13) /\\ (((a3 -> a11 -> a4) /\\ a11) -> a3 -> a4) /\\ ((a13 /\\ a6 /\\ a2 /\\ a15 /\\ a8 /\\ a7 /\\ (((a14 -> a5) /\\ (a19 -> a14) /\\ (a19 -> a19)) -> a19 -> a5) /\\ (ω -> a4 -> a4) /\\ ((((ω -> a5) -> a17) /\\ ((a18 -> a18) -> a5)) -> a17) /\\ ((a2 /\\ a5 /\\ a11 /\\ a3 /\\ a18 /\\ a10 /\\ a6 /\\ a8 /\\ (((a9 -> a12) /\\ a18) -> (a18 -> a9) -> a12) /\\ ((a8 /\\ a15 /\\ a14 /\\ a8 /\\ a16 /\\ a10 /\\ a14 /\\ (((a14 -> a0 -> a12) /\\ a0) -> a14 -> a12) /\\ (((a0 -> a13 -> a5 -> a6) /\\ (a18 -> a11)) -> (a0 /\\ (a11 -> a5 -> a5) /\\ a18) -> (a13 /\\ a5) -> a6) /\\ ((a17 /\\ a4 /\\ a18 /\\ a9 /\\ a3 /\\ a6 /\\ a2 /\\ a6 /\\ a5 /\\ ((a6 /\\ a0 /\\ a17 /\\ a8 /\\ a19 /\\ a6 /\\ a10 /\\ a4 /\\ (a2 -> ω -> a2) /\\ ((a11 /\\ a13 /\\ a9 /\\ a16 /\\ a11 /\\ a5 /\\ a10 /\\ a12 /\\ a6 /\\ ((a14 /\\ a3 /\\ a8 /\\ a13 /\\ a0 /\\ a4 /\\ (((a7 -> a12) /\\ (a18 -> a7) /\\ a18) -> a12) /\\ ((((ω -> a17) -> a8) /\\ ((a18 -> a18) -> a17)) -> a8) /\\ (((a13 -> a4) /\\ (a17 -> a13)) -> (a13 /\\ a17) -> (a4 -> a13 -> a18) -> a18) /\\ ((a19 /\\ a5 /\\ a1 /\\ a11 /\\ a16 /\\ a11 /\\ a2 /\\ a13 /\\ a2 /\\ ((a0 /\\ a3 /\\ a10 /\\ a9 /\\ a6 /\\ a0 /\\ (((a8 -> a15 -> a18) /\\ a15) -> a8 -> a18) /\\ ((((a11 -> a4) -> a18) /\\ ((ω -> a11) -> a4)) -> a18) /\\ ((a5 -> a12) -> a5 -> a12) /\\ ((((b -> c) -> (a -> b) -> a -> c) /\\ ((a -> b -> c) -> b -> a -> c) /\\ (((a -> (b -> c)) /\\ a /\\ b) -> c) /\\ (a -> a) /\\ (((a -> b -> c) /\\ b) -> a -> c) /\\ (((a -> b) /\\ a) -> b) /\\ ((b -> c -> d) -> ((a -> d -> e) /\\ b) -> (a /\\ c) -> e) /\\ ((a -> b -> c) -> b -> a -> c) /\\ (a -> (a -> b) -> b) /\\ (a -> (a -> b) -> b)) -> a0)) -> a1)) -> a2)) -> a3)) -> a4)) -> a5)) -> a6)) -> a7)) -> a8)) -> a9)\n",
      "{a -> a10, a0 -> b, a1 -> a9, a10 -> d, a11 -> a3, a12 -> a16, a13 -> e, a14 -> a19, a15 -> a13, a16 -> a, a17 -> a0, a18 -> a15, a19 -> a8, a2 -> a7, a3 -> a14, a4 -> a17, a5 -> a6, a6 -> a2, a7 -> c, a8 -> a12, a9 -> a11, b -> a1, c -> a18, d -> a4, e -> a5}\n"
     ]
    }
   ],
   "source": [
    "t, s, r = manyVariables(10, 10)\n",
    "print(t)\n",
    "print(r)"
   ]
  },
  {
   "cell_type": "code",
   "execution_count": 9,
   "metadata": {},
   "outputs": [
    {
     "name": "stdout",
     "output_type": "stream",
     "text": [
      "CPU times: user 16.6 ms, sys: 1.58 ms, total: 18.2 ms\n",
      "Wall time: 18.5 ms\n"
     ]
    }
   ],
   "source": [
    "%%time\n",
    "r1 = compareConstraintPropSizeClasses(t, s)\n",
    "assert r1 == r"
   ]
  },
  {
   "cell_type": "code",
   "execution_count": 18,
   "metadata": {},
   "outputs": [
    {
     "name": "stdout",
     "output_type": "stream",
     "text": [
      "(a -> (a -> b) -> b) /\\ ((a -> b) -> a -> b) /\\ (ω -> a -> a) /\\ (((a -> b) /\\ (b -> c)) -> a -> c) /\\ (((a -> b) /\\ (b -> c) /\\ (c -> d)) -> a -> d)\n",
      "{a -> d, b -> c, c -> a, d -> b}\n",
      "{a -> d, b -> c, c -> a, d -> b}\n",
      "{a -> d, b -> c, c -> a, d -> b}\n",
      "{a -> d, b -> c, c -> a, d -> b}\n",
      "{a -> d, b -> c, c -> a, d -> b}\n",
      "{a -> d, b -> c, c -> a, d -> b}\n"
     ]
    }
   ],
   "source": [
    "top = types[\"top\"]\n",
    "\n",
    "zero = types[\"zero\"] \n",
    "test1 = types[\"test1\"] \n",
    "one = types[\"one\"]\n",
    "two = types[\"two\"]\n",
    "three = types[\"three\"]\n",
    "\n",
    "x = Variable(\"x\")\n",
    "y = Variable(\"y\")\n",
    "z = Variable(\"z\")\n",
    "w = Variable(\"w\")\n",
    "v = Variable(\"v\")\n",
    "h = Variable(\"h\")\n",
    "\n",
    "d = Intersection([zero, test1, one, two, three])\n",
    "d1 = Intersection([three, one, two, test1, zero])\n",
    "# d1, r = randomRename(d1, [w, v, h, x, y, z])\n",
    "d1, r = randomRename(d1)\n",
    "\n",
    "# ssscom\n",
    "print(typeSort(d))\n",
    "print(naiveComparison(d, d1))\n",
    "print(recomb(d, d1))\n",
    "print(compareSizeClasses(d, d1))\n",
    "print(compareConstraintProp(d, d1))\n",
    "print(compareConstraintPropSizeClasses(d, d1))\n",
    "print(r)\n",
    "\n",
    "# random.seed(1000)\n",
    "# t = types[\"bcomb\"]\n",
    "# print(t)\n",
    "# s, r = randomRename(t)\n",
    "# print(s)\n",
    "# print(compareConstraintPropSizeClasses(t, s))\n",
    "# print(r)"
   ]
  },
  {
   "cell_type": "code",
   "execution_count": 19,
   "metadata": {},
   "outputs": [
    {
     "name": "stdout",
     "output_type": "stream",
     "text": [
      "t = (a -> a) /\\ ((a -> b) -> a -> b) /\\ (((b -> c) /\\ (a -> b)) -> a -> c) /\\ (((c -> d) /\\ (b -> c) /\\ (a -> b)) -> a -> d) /\\ (((a -> b) /\\ a) -> b) /\\ (((a -> (b -> c)) /\\ a /\\ b) -> c) /\\ (((b -> c) /\\ (a -> b) /\\ a) -> c) /\\ (a -> (a -> b) -> b) /\\ (((b -> c) /\\ a) -> (a -> b) -> c) /\\ (((a -> b -> c) /\\ b) -> a -> c) /\\ (((a -> a) -> b) -> b) /\\ ((((ω -> b) -> c) /\\ ((a -> a) -> b)) -> c) /\\ ((((a -> b) -> c) /\\ ((ω -> a) -> b)) -> c) /\\ (a -> ω -> a) /\\ (ω -> a -> a) /\\ ((a -> b -> c) -> b -> a -> c) /\\ ((b -> c) -> (a -> b) -> a -> c) /\\ ((a -> c -> d) -> (b -> c) -> (a /\\ b) -> d) /\\ ((b -> c -> d) -> ((a -> d -> e) /\\ b) -> (a /\\ c) -> e) /\\ (((a -> b -> f -> g) /\\ (c -> d)) -> (a /\\ (d -> e -> f) /\\ c) -> (b /\\ e) -> g) /\\ ((a -> e -> f) -> (b -> d -> e) -> (c -> d) -> (a /\\ b /\\ c) -> f) /\\ (((a -> b) /\\ (c -> d)) -> (a /\\ c) -> (b -> d -> e) -> e)\n",
      "s = (((a -> (g -> d)) /\\ a /\\ g) -> d) /\\ ((a -> b -> f) -> (g -> c -> b) -> (d -> c) -> (a /\\ g /\\ d) -> f) /\\ (((a -> g) /\\ (d -> c)) -> (a /\\ d) -> (g -> c -> b) -> b) /\\ (((d -> c) /\\ (g -> d) /\\ (a -> g)) -> a -> c) /\\ (ω -> a -> a) /\\ ((a -> g -> d) -> g -> a -> d) /\\ ((((a -> g) -> d) /\\ ((ω -> a) -> g)) -> d) /\\ (a -> a) /\\ (((g -> d) /\\ (a -> g) /\\ a) -> d) /\\ ((a -> g) -> a -> g) /\\ ((((ω -> g) -> d) /\\ ((a -> a) -> g)) -> d) /\\ (((a -> g -> d) /\\ g) -> a -> d) /\\ (((a -> a) -> g) -> g) /\\ (((g -> d) /\\ (a -> g)) -> a -> d) /\\ ((g -> d -> c) -> ((a -> c -> b) /\\ g) -> (a /\\ d) -> b) /\\ (((g -> d) /\\ a) -> (a -> g) -> d) /\\ ((a -> d -> c) -> (g -> d) -> (a /\\ g) -> c) /\\ (((a -> g) /\\ a) -> g) /\\ (a -> (a -> g) -> g) /\\ (a -> ω -> a) /\\ (((a -> g -> f -> e) /\\ (d -> c)) -> (a /\\ (c -> b -> f) /\\ d) -> (g /\\ b) -> e) /\\ ((g -> d) -> (a -> g) -> a -> d)\n",
      "r = {a -> a, b -> g, c -> d, d -> c, e -> b, f -> f, g -> e}\n"
     ]
    }
   ],
   "source": [
    "random.seed(1002)\n",
    "ts = list(types.values())\n",
    "ts = ts[:len(ts) - 1]\n",
    "t = Intersection(list(ts))\n",
    "random.shuffle(ts)\n",
    "s, r = randomRename(Intersection(ts))\n",
    "print(f\"t = {t}\")\n",
    "print(f\"s = {s}\")\n",
    "print(f\"r = {r}\")"
   ]
  },
  {
   "cell_type": "code",
   "execution_count": 16,
   "metadata": {},
   "outputs": [
    {
     "name": "stdout",
     "output_type": "stream",
     "text": [
      "CPU times: user 20 s, sys: 160 ms, total: 20.2 s\n",
      "Wall time: 20.6 s\n"
     ]
    }
   ],
   "source": [
    "%%timeit\n",
    "r1 = naiveComparison(t, s)"
   ]
  },
  {
   "cell_type": "code",
   "execution_count": 17,
   "metadata": {},
   "outputs": [
    {
     "name": "stdout",
     "output_type": "stream",
     "text": [
      "(a -> a) /\\ ((a -> b) -> a -> b) /\\ (((b -> c) /\\ (a -> b)) -> a -> c) /\\ (((c -> d) /\\ (b -> c) /\\ (a -> b)) -> a -> d) /\\ (((a -> b) /\\ a) -> b) /\\ (((a -> (b -> c)) /\\ a /\\ b) -> c) /\\ (((b -> c) /\\ (a -> b) /\\ a) -> c) /\\ (a -> (a -> b) -> b) /\\ (((b -> c) /\\ a) -> (a -> b) -> c) /\\ (((a -> b -> c) /\\ b) -> a -> c) /\\ (((a -> a) -> b) -> b) /\\ ((((ω -> b) -> c) /\\ ((a -> a) -> b)) -> c) /\\ ((((a -> b) -> c) /\\ ((ω -> a) -> b)) -> c) /\\ (a -> ω -> a) /\\ (ω -> a -> a) /\\ ((a -> b -> c) -> b -> a -> c) /\\ ((b -> c) -> (a -> b) -> a -> c) /\\ ((a -> c -> d) -> (b -> c) -> (a /\\ b) -> d) /\\ ((b -> c -> d) -> ((a -> d -> e) /\\ b) -> (a /\\ c) -> e) /\\ (((a -> b -> f -> g) /\\ (c -> d)) -> (a /\\ (d -> e -> f) /\\ c) -> (b /\\ e) -> g) /\\ ((a -> e -> f) -> (b -> d -> e) -> (c -> d) -> (a /\\ b /\\ c) -> f) /\\ (((a -> b) /\\ (c -> d)) -> (a /\\ c) -> (b -> d -> e) -> e)\n",
      "(((e -> (b -> g)) /\\ e /\\ b) -> g) /\\ ((e -> d -> f) -> (b -> a -> d) -> (g -> a) -> (e /\\ b /\\ g) -> f) /\\ (((e -> b) /\\ (g -> a)) -> (e /\\ g) -> (b -> a -> d) -> d) /\\ (((g -> a) /\\ (b -> g) /\\ (e -> b)) -> e -> a) /\\ (ω -> e -> e) /\\ ((e -> b -> g) -> b -> e -> g) /\\ ((((e -> b) -> g) /\\ ((ω -> e) -> b)) -> g) /\\ (e -> e) /\\ (((b -> g) /\\ (e -> b) /\\ e) -> g) /\\ ((e -> b) -> e -> b) /\\ ((((ω -> b) -> g) /\\ ((e -> e) -> b)) -> g) /\\ (((e -> b -> g) /\\ b) -> e -> g) /\\ (((e -> e) -> b) -> b) /\\ (((b -> g) /\\ (e -> b)) -> e -> g) /\\ ((b -> g -> a) -> ((e -> a -> d) /\\ b) -> (e /\\ g) -> d) /\\ (((b -> g) /\\ e) -> (e -> b) -> g) /\\ ((e -> g -> a) -> (b -> g) -> (e /\\ b) -> a) /\\ (((e -> b) /\\ e) -> b) /\\ (e -> (e -> b) -> b) /\\ (e -> ω -> e) /\\ (((e -> b -> f -> c) /\\ (g -> a)) -> (e /\\ (a -> d -> f) /\\ g) -> (b /\\ d) -> c) /\\ ((b -> g) -> (e -> b) -> e -> g)\n"
     ]
    }
   ],
   "source": [
    "print(t)\n",
    "print(s)"
   ]
  },
  {
   "cell_type": "code",
   "execution_count": 20,
   "metadata": {},
   "outputs": [
    {
     "name": "stdout",
     "output_type": "stream",
     "text": [
      "CPU times: user 15.5 ms, sys: 638 µs, total: 16.1 ms\n",
      "Wall time: 16.9 ms\n"
     ]
    }
   ],
   "source": [
    "%%time\n",
    "r2 = recomb(t, s)"
   ]
  },
  {
   "cell_type": "code",
   "execution_count": 30,
   "metadata": {},
   "outputs": [
    {
     "name": "stdout",
     "output_type": "stream",
     "text": [
      "3.52 ms ± 54.6 µs per loop (mean ± std. dev. of 7 runs, 100 loops each)\n"
     ]
    }
   ],
   "source": [
    "%%timeit\n",
    "r3 = compareSizeClasses(t, s)"
   ]
  },
  {
   "cell_type": "code",
   "execution_count": 23,
   "metadata": {},
   "outputs": [
    {
     "ename": "KeyboardInterrupt",
     "evalue": "",
     "output_type": "error",
     "traceback": [
      "\u001b[0;31m---------------------------------------------------------------------------\u001b[0m",
      "\u001b[0;31mKeyboardInterrupt\u001b[0m                         Traceback (most recent call last)",
      "File \u001b[0;32m<timed exec>:1\u001b[0m\n",
      "File \u001b[0;32m~/Developer/NPAlgorithm/algorithm.py:27\u001b[0m, in \u001b[0;36mcompareConstraintProp\u001b[0;34m(t, s)\u001b[0m\n\u001b[1;32m     24\u001b[0m t \u001b[38;5;241m=\u001b[39m normalForm(t)\n\u001b[1;32m     25\u001b[0m s \u001b[38;5;241m=\u001b[39m normalForm(s)\n\u001b[0;32m---> 27\u001b[0m solution \u001b[38;5;241m=\u001b[39m \u001b[43msolveWithConstraintProp\u001b[49m\u001b[43m(\u001b[49m\u001b[43m[\u001b[49m\u001b[43mConstraint\u001b[49m\u001b[43m(\u001b[49m\u001b[43mt\u001b[49m\u001b[43m,\u001b[49m\u001b[43m \u001b[49m\u001b[43ms\u001b[49m\u001b[43m)\u001b[49m\u001b[43m]\u001b[49m\u001b[43m,\u001b[49m\u001b[43m \u001b[49m\u001b[43m{\u001b[49m\u001b[43m}\u001b[49m\u001b[43m)\u001b[49m\n\u001b[1;32m     28\u001b[0m \u001b[38;5;28;01mif\u001b[39;00m solution \u001b[38;5;129;01mis\u001b[39;00m \u001b[38;5;28;01mNone\u001b[39;00m:\n\u001b[1;32m     29\u001b[0m     \u001b[38;5;28;01mreturn\u001b[39;00m \u001b[38;5;28;01mNone\u001b[39;00m\n",
      "File \u001b[0;32m~/Developer/NPAlgorithm/algorithm.py:262\u001b[0m, in \u001b[0;36msolveWithConstraintProp\u001b[0;34m(C, S)\u001b[0m\n\u001b[1;32m    259\u001b[0m     \u001b[38;5;28;01mreturn\u001b[39;00m solveWithConstraintProp(constr \u001b[38;5;241m+\u001b[39m C1 \u001b[38;5;241m+\u001b[39m [varConstr], S)\n\u001b[1;32m    261\u001b[0m \u001b[38;5;28;01mfor\u001b[39;00m p \u001b[38;5;129;01min\u001b[39;00m permutations(types2):\n\u001b[0;32m--> 262\u001b[0m     S1 \u001b[38;5;241m=\u001b[39m solveWithConstraintProp([Constraint(t1, t2) \u001b[38;5;28;01mfor\u001b[39;00m t1, t2 \u001b[38;5;129;01min\u001b[39;00m \u001b[38;5;28mzip\u001b[39m(types1, p)] \u001b[38;5;241m+\u001b[39m C1, S)\n\u001b[1;32m    263\u001b[0m     \u001b[38;5;28;01mif\u001b[39;00m S1 \u001b[38;5;129;01mis\u001b[39;00m \u001b[38;5;129;01mnot\u001b[39;00m \u001b[38;5;28;01mNone\u001b[39;00m:\n\u001b[1;32m    264\u001b[0m         \u001b[38;5;28;01mreturn\u001b[39;00m S1\n",
      "File \u001b[0;32m~/Developer/NPAlgorithm/algorithm.py:262\u001b[0m, in \u001b[0;36m<listcomp>\u001b[0;34m(.0)\u001b[0m\n\u001b[1;32m    259\u001b[0m     \u001b[38;5;28;01mreturn\u001b[39;00m solveWithConstraintProp(constr \u001b[38;5;241m+\u001b[39m C1 \u001b[38;5;241m+\u001b[39m [varConstr], S)\n\u001b[1;32m    261\u001b[0m \u001b[38;5;28;01mfor\u001b[39;00m p \u001b[38;5;129;01min\u001b[39;00m permutations(types2):\n\u001b[0;32m--> 262\u001b[0m     S1 \u001b[38;5;241m=\u001b[39m solveWithConstraintProp([\u001b[43mConstraint\u001b[49m\u001b[43m(\u001b[49m\u001b[43mt1\u001b[49m\u001b[43m,\u001b[49m\u001b[43m \u001b[49m\u001b[43mt2\u001b[49m\u001b[43m)\u001b[49m \u001b[38;5;28;01mfor\u001b[39;00m t1, t2 \u001b[38;5;129;01min\u001b[39;00m \u001b[38;5;28mzip\u001b[39m(types1, p)] \u001b[38;5;241m+\u001b[39m C1, S)\n\u001b[1;32m    263\u001b[0m     \u001b[38;5;28;01mif\u001b[39;00m S1 \u001b[38;5;129;01mis\u001b[39;00m \u001b[38;5;129;01mnot\u001b[39;00m \u001b[38;5;28;01mNone\u001b[39;00m:\n\u001b[1;32m    264\u001b[0m         \u001b[38;5;28;01mreturn\u001b[39;00m S1\n",
      "\u001b[0;31mKeyboardInterrupt\u001b[0m: "
     ]
    }
   ],
   "source": [
    "%%time\n",
    "r4 = compareConstraintProp(t, s)\n",
    "print(r4)"
   ]
  },
  {
   "cell_type": "code",
   "execution_count": 31,
   "metadata": {},
   "outputs": [
    {
     "name": "stdout",
     "output_type": "stream",
     "text": [
      "3.58 ms ± 148 µs per loop (mean ± std. dev. of 7 runs, 100 loops each)\n"
     ]
    }
   ],
   "source": [
    "%%timeit\n",
    "r5 = compareConstraintPropSizeClasses(t, s)"
   ]
  },
  {
   "cell_type": "code",
   "execution_count": 28,
   "metadata": {},
   "outputs": [],
   "source": [
    "r1 = naiveComparison(t, s)\n",
    "r2 = recomb(t, s)\n",
    "r3 = compareSizeClasses(t, s)\n",
    "# r4 = compareConstraintProp(t, s)\n",
    "r5 = compareConstraintPropSizeClasses(t, s)\n",
    "assert r == r1\n",
    "assert r == r2\n",
    "assert r == r3\n",
    "# assert r == r4\n",
    "assert r == r5"
   ]
  },
  {
   "cell_type": "code",
   "execution_count": 47,
   "metadata": {},
   "outputs": [
    {
     "name": "stdout",
     "output_type": "stream",
     "text": [
      "None\n",
      "{a -> m, x -> c, b -> y}\n",
      "{a -> m, b -> y, x -> c}\n",
      "{a -> m, b -> y, x -> c}\n"
     ]
    }
   ],
   "source": [
    "x = Variable(\"x\")\n",
    "y = Variable(\"y\")\n",
    "m = Variable(\"m\")\n",
    "\n",
    "t = typify([\n",
    "    (a, [b, x]), (b, x)\n",
    "])\n",
    "s = typify([\n",
    "    (m, [c, y]), (y, c)\n",
    "])\n",
    "\n",
    "print(recomb(t, s))\n",
    "print(naiveComparison(t, s))\n",
    "print(compareAC(t, s))\n",
    "print(compareConstraintProp(t, s))"
   ]
  }
 ],
 "metadata": {
  "kernelspec": {
   "display_name": "Python 3",
   "language": "python",
   "name": "python3"
  },
  "language_info": {
   "codemirror_mode": {
    "name": "ipython",
    "version": 3
   },
   "file_extension": ".py",
   "mimetype": "text/x-python",
   "name": "python",
   "nbconvert_exporter": "python",
   "pygments_lexer": "ipython3",
   "version": "3.10.13"
  }
 },
 "nbformat": 4,
 "nbformat_minor": 2
}
