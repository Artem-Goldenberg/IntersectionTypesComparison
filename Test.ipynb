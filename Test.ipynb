{
 "cells": [
  {
   "cell_type": "code",
   "execution_count": 2,
   "metadata": {},
   "outputs": [],
   "source": [
    "%reload_ext autoreload\n",
    "%autoreload 2\n",
    "from naive import *\n",
    "from type import *\n",
    "from utils import *\n",
    "from algorithms import *\n",
    "from test import *\n",
    "import random"
   ]
  },
  {
   "cell_type": "markdown",
   "metadata": {},
   "source": [
    "### Типы Комбинаторы\n",
    "Сделующие типы используются как базовые для сборки тестовых типов"
   ]
  },
  {
   "cell_type": "code",
   "execution_count": 33,
   "metadata": {},
   "outputs": [
    {
     "name": "stdout",
     "output_type": "stream",
     "text": [
      "top = a -> a\n",
      "one = (a -> b) -> a -> b\n",
      "two = ((b -> c) /\\ (a -> b)) -> a -> c\n",
      "three = ((c -> d) /\\ (b -> c) /\\ (a -> b)) -> a -> d\n",
      "omega1 = ((a -> b) /\\ a) -> b\n",
      "omega2 = ((a -> (b -> c)) /\\ a /\\ b) -> c\n",
      "omega3 = ((b -> c) /\\ (a -> b) /\\ a) -> c\n",
      "test1 = a -> (a -> b) -> b\n",
      "test2 = ((b -> c) /\\ a) -> (a -> b) -> c\n",
      "test3 = ((a -> b -> c) /\\ b) -> a -> c\n",
      "test4 = ((a -> a) -> b) -> b\n",
      "test5 = (((ω -> b) -> c) /\\ ((a -> a) -> b)) -> c\n",
      "test6 = (((a -> b) -> c) /\\ ((ω -> a) -> b)) -> c\n",
      "kcomb = a -> ω -> a\n",
      "kastcomb = ω -> a -> a\n",
      "ccomb = (a -> b -> c) -> b -> a -> c\n",
      "bcomb = (b -> c) -> (a -> b) -> a -> c\n",
      "scomb = (a -> c -> d) -> (b -> c) -> (a /\\ b) -> d\n",
      "sscomb = (b -> c -> d) -> ((a -> d -> e) /\\ b) -> (a /\\ c) -> e\n",
      "ssscomb = ((a -> b -> f -> g) /\\ (c -> d)) -> (a /\\ (d -> e -> f) /\\ c) -> (b /\\ e) -> g\n",
      "ucomb = (a -> e -> f) -> (b -> d -> e) -> (c -> d) -> (a /\\ b /\\ c) -> f\n",
      "diagP = ((a -> b) /\\ (c -> d)) -> (a /\\ c) -> (b -> d -> e) -> e\n",
      "zero = ω -> a -> a\n"
     ]
    }
   ],
   "source": [
    "for k, v in types.items():\n",
    "    print(f\"{k} = {v}\")"
   ]
  },
  {
   "cell_type": "markdown",
   "metadata": {},
   "source": [
    "### Широкие и Глубокие\n",
    "Фнукция testType(depth, width, numVars) строит тип по заданным параметрам"
   ]
  },
  {
   "cell_type": "code",
   "execution_count": 73,
   "metadata": {},
   "outputs": [
    {
     "name": "stdout",
     "output_type": "stream",
     "text": [
      "((a3 -> a4) -> (a4 -> a3) -> a4 -> a4) /\\ (((a0 -> a2 -> a0) /\\ a2) -> a0 -> a0) /\\ (((((a2 -> a3) /\\ (a2 -> a2)) -> a2 -> a3) /\\ (((a0 -> a4) /\\ (a2 -> a0)) -> a2 -> a4) /\\ (((ω -> a2 -> a2) /\\ ((a0 -> a1 -> a3) -> a1 -> a0 -> a3) /\\ (((a0 -> a0) /\\ (((a4 -> a3) /\\ a4) -> a3) /\\ (((((a4 -> a4) -> a2) -> a2) /\\ (((a4 -> (a1 -> a3)) /\\ a4 /\\ a1) -> a3) /\\ (((((a1 -> (a3 -> a3)) /\\ a1 /\\ a3) -> a3) /\\ (((a0 -> a4) /\\ a0) -> a4) /\\ ((((a4 -> a1 -> a3) -> (a0 -> a1) -> (a4 /\\ a0) -> a3) /\\ (ω -> a3 -> a3) /\\ (((a4 -> (a4 -> a0) -> a0) /\\ ((a2 -> a1 -> a4) -> a1 -> a2 -> a4) /\\ (((ω -> a0 -> a0) /\\ (((a4 -> a4) -> a2) -> a2) /\\ (((a2 -> (a2 -> a3) -> a3) /\\ ((a3 -> a2 -> a3) -> (a4 -> a4 -> a2) -> (a1 -> a4) -> (a3 /\\ a4 /\\ a1) -> a3) /\\ (((((a2 -> a0) /\\ (a4 -> a2) /\\ (a1 -> a4)) -> a1 -> a0) /\\ ((a0 -> a1) -> a0 -> a1) /\\ (((((a4 -> a1) /\\ a0) -> (a0 -> a4) -> a1) /\\ (ω -> a3 -> a3) /\\ (((a1 -> (a1 -> a4) -> a4) /\\ (((a1 -> a3) /\\ (a2 -> a1) /\\ (a2 -> a2)) -> a2 -> a3) /\\ (((((a1 -> a1) -> a3) -> a3) /\\ (((a0 -> a2) /\\ (a4 -> a0)) -> a4 -> a2) /\\ ((((a2 -> a3 -> a3) -> (a4 -> a3) -> (a2 /\\ a4) -> a3) /\\ (a2 -> a2) /\\ ((((a1 -> a1 -> a0) -> (a3 -> a1 -> a1) -> (a2 -> a1) -> (a1 /\\ a3 /\\ a2) -> a0) /\\ ((((a2 -> a2) -> a0) /\\ ((ω -> a2) -> a2)) -> a0) /\\ ((((((a3 -> a2) -> a2) /\\ ((ω -> a3) -> a2)) -> a2) /\\ (ω -> a2 -> a2) /\\ (((a1 -> ω -> a1) /\\ (((a0 -> a4 -> a4 -> a0) /\\ (a0 -> a1)) -> (a0 /\\ (a1 -> a2 -> a4) /\\ a0) -> (a4 /\\ a2) -> a0) /\\ (((((a0 -> a0) -> a0) -> a0) /\\ ((((ω -> a0) -> a4) /\\ ((a3 -> a3) -> a0)) -> a4) /\\ ((((a0 -> a2) -> a0 -> a2) /\\ ((a2 -> a0 -> a3) -> ((a4 -> a3 -> a3) /\\ a2) -> (a4 /\\ a0) -> a3) /\\ (((((a2 -> (a3 -> a1)) /\\ a2 /\\ a3) -> a1) /\\ ((a0 -> a4 -> a3) -> (a1 -> a4) -> (a0 /\\ a1) -> a3) /\\ (((a0 -> (a0 -> a1) -> a1) /\\ ((a2 -> a3 -> a3) -> a3 -> a2 -> a3) /\\ (((((a4 -> a1) /\\ (a0 -> a4) /\\ a0) -> a1) /\\ (((a0 -> a0) /\\ (a1 -> a0)) -> a1 -> a0) /\\ ((((a0 -> a2 -> a3) -> a2 -> a0 -> a3) /\\ (a0 -> a0) /\\ ((((a0 -> a0) -> a0 -> a0) /\\ (a0 -> ω -> a0) /\\ (((((a4 -> a4) -> a1) -> a1) /\\ (((a0 -> a0 -> a1 -> a3) /\\ (a4 -> a4)) -> (a0 /\\ (a4 -> a3 -> a1) /\\ a4) -> (a0 /\\ a3) -> a3) /\\ (((((a3 -> a4) /\\ (a4 -> a3)) -> a4 -> a4) /\\ (((a3 -> a0 -> a3 -> a2) /\\ (a0 -> a0)) -> (a3 /\\ (a0 -> a0 -> a3) /\\ a0) -> (a0 /\\ a0) -> a2) /\\ ((((a4 -> a4 -> a2) -> ((a1 -> a2 -> a1) /\\ a4) -> (a1 /\\ a4) -> a1) /\\ (ω -> a2 -> a2) /\\ (((a1 -> (a1 -> a0) -> a0) /\\ (a0 -> ω -> a0) /\\ ((((a1 -> a4 -> a4) -> a4 -> a1 -> a4) /\\ (((a0 -> a3) /\\ (a4 -> a0)) -> a4 -> a3) /\\ ((((a1 -> a4) -> (a3 -> a1) -> a3 -> a4) /\\ (((a1 -> a2) /\\ a1) -> a2)) -> a0)) -> a1)) -> a2)) -> a3)) -> a4)) -> a0)) -> a1)) -> a2)) -> a3)) -> a4)) -> a0)) -> a1)) -> a2)) -> a3)) -> a4)) -> a0)) -> a1)) -> a2)) -> a3)) -> a4)) -> a0)) -> a1)) -> a2)) -> a3)) -> a4)) -> a0)) -> a1)) -> a2)) -> a3)) -> a4)\n",
      "{a0 -> a2, a1 -> a4, a2 -> a1, a3 -> a0, a4 -> a3}\n"
     ]
    }
   ],
   "source": [
    "random.seed(1002)\n",
    "t, s, r = testType(30, 3, 5)\n",
    "print(t)\n",
    "print(r)"
   ]
  },
  {
   "cell_type": "code",
   "execution_count": 74,
   "metadata": {},
   "outputs": [
    {
     "name": "stdout",
     "output_type": "stream",
     "text": [
      "159 ms ± 8.23 ms per loop (mean ± std. dev. of 10 runs, 40 loops each)\n"
     ]
    }
   ],
   "source": [
    "%%timeit -r 10 -n 40\n",
    "naiveComparison(t, s)"
   ]
  },
  {
   "cell_type": "code",
   "execution_count": 75,
   "metadata": {},
   "outputs": [
    {
     "name": "stdout",
     "output_type": "stream",
     "text": [
      "6.91 ms ± 387 µs per loop (mean ± std. dev. of 10 runs, 100 loops each)\n"
     ]
    }
   ],
   "source": [
    "%%timeit -r 10 -n 100\n",
    "comparePlain(t, s)"
   ]
  },
  {
   "cell_type": "code",
   "execution_count": 76,
   "metadata": {},
   "outputs": [
    {
     "name": "stdout",
     "output_type": "stream",
     "text": [
      "7.91 ms ± 745 µs per loop (mean ± std. dev. of 10 runs, 100 loops each)\n"
     ]
    }
   ],
   "source": [
    "%%timeit -r 10 -n 100\n",
    "compareConstrProp(t, s)"
   ]
  },
  {
   "cell_type": "code",
   "execution_count": 79,
   "metadata": {},
   "outputs": [
    {
     "name": "stdout",
     "output_type": "stream",
     "text": [
      "27.7 ms ± 2.77 ms per loop (mean ± std. dev. of 10 runs, 100 loops each)\n"
     ]
    }
   ],
   "source": [
    "%%timeit -r 10 -n 100\n",
    "compareSizeCount(t, s)"
   ]
  },
  {
   "cell_type": "code",
   "execution_count": 80,
   "metadata": {},
   "outputs": [
    {
     "name": "stdout",
     "output_type": "stream",
     "text": [
      "26.3 ms ± 1.21 ms per loop (mean ± std. dev. of 10 runs, 100 loops each)\n"
     ]
    }
   ],
   "source": [
    "%%timeit -r 10 -n 100\n",
    "compareConstrPropSizeCount(t, s)"
   ]
  },
  {
   "cell_type": "markdown",
   "metadata": {},
   "source": [
    "Широкий тип"
   ]
  },
  {
   "cell_type": "code",
   "execution_count": 99,
   "metadata": {},
   "outputs": [
    {
     "name": "stdout",
     "output_type": "stream",
     "text": [
      "((a0 -> a3 -> a2) -> a3 -> a0 -> a2) /\\ ((a1 -> a3) -> a1 -> a3) /\\ (a1 -> ω -> a1) /\\ (((a1 -> (a2 -> a0)) /\\ a1 /\\ a2) -> a0) /\\ ((((ω -> a2) -> a0) /\\ ((a2 -> a2) -> a2)) -> a0) /\\ (a0 -> (a0 -> a3) -> a3) /\\ ((a3 -> a3 -> a2) -> (a0 -> a3) -> (a3 /\\ a0) -> a2) /\\ ((((a1 -> a1) -> a0) /\\ ((ω -> a1) -> a1)) -> a0) /\\ (((a1 -> a1) -> a0) -> a0) /\\ ((a2 -> a2 -> a1) -> ((a1 -> a1 -> a3) /\\ a2) -> (a1 /\\ a2) -> a3) /\\ ((a3 -> a1 -> a1) -> (a2 -> a2 -> a1) -> (a0 -> a2) -> (a3 /\\ a2 /\\ a0) -> a1) /\\ (((a1 -> (a1 -> a2)) /\\ a1 /\\ a1) -> a2) /\\ (((a1 -> a1) /\\ a3) -> (a3 -> a1) -> a1) /\\ ((a1 -> a2 -> a2) -> (a2 -> a2) -> (a1 /\\ a2) -> a2) /\\ ((a1 -> a0 -> a2) -> ((a2 -> a2 -> a3) /\\ a1) -> (a2 /\\ a0) -> a3) /\\ (((a2 -> a2) /\\ a2) -> a2) /\\ (((a2 -> a2 -> a0 -> a1) /\\ (a3 -> a2)) -> (a2 /\\ (a2 -> a1 -> a0) /\\ a3) -> (a2 /\\ a1) -> a1) /\\ (((a2 -> a2 -> a1 -> a0) /\\ (a1 -> a3)) -> (a2 /\\ (a3 -> a1 -> a1) /\\ a1) -> (a2 /\\ a1) -> a0) /\\ ((a2 -> a2 -> a1) -> a2 -> a2 -> a1) /\\ (((ω -> a0 -> a0) /\\ (((a3 -> a3) /\\ (a1 -> a3)) -> a1 -> a3) /\\ ((((ω -> a3) -> a3) /\\ ((a3 -> a3) -> a3)) -> a3) /\\ (ω -> a0 -> a0) /\\ ((a3 -> a2 -> a1) -> (a3 -> a1 -> a2) -> (a2 -> a1) -> (a3 /\\ a3 /\\ a2) -> a1) /\\ (((a2 -> a0) /\\ (a0 -> a2)) -> a0 -> a0) /\\ (((a0 -> a0) /\\ a0) -> a0) /\\ (a3 -> (a3 -> a1) -> a1) /\\ ((a2 -> a1 -> a2) -> a1 -> a2 -> a2) /\\ (((a2 -> a3) /\\ (a3 -> a2)) -> a3 -> a3) /\\ (a1 -> (a1 -> a0) -> a0) /\\ (((a3 -> a1) /\\ (a3 -> a3) /\\ a3) -> a1) /\\ (a0 -> ω -> a0) /\\ (((a2 -> a2) -> a1) -> a1) /\\ (((a1 -> a2) /\\ (a0 -> a1) /\\ a0) -> a2) /\\ (a0 -> ω -> a0) /\\ ((a1 -> a0 -> a2) -> a0 -> a1 -> a2) /\\ ((((a3 -> a1) -> a1) /\\ ((ω -> a3) -> a1)) -> a1) /\\ (((a0 -> a2) /\\ (a3 -> a2)) -> (a0 /\\ a3) -> (a2 -> a2 -> a0) -> a0) /\\ (((a3 -> a3) /\\ (((a2 -> a2) /\\ (a1 -> a2) /\\ (a1 -> a1)) -> a1 -> a2) /\\ (((a1 -> a1) -> a0) -> a0) /\\ (a1 -> (a1 -> a0) -> a0) /\\ ((a3 -> a3 -> a1) -> (a1 -> a3) -> (a3 /\\ a1) -> a1) /\\ (ω -> a3 -> a3) /\\ (a1 -> ω -> a1) /\\ (((a2 -> a2 -> a2 -> a1) /\\ (a2 -> a3)) -> (a2 /\\ (a3 -> a0 -> a2) /\\ a2) -> (a2 /\\ a0) -> a1) /\\ ((a3 -> a1 -> a1) -> a1 -> a3 -> a1) /\\ (((a2 -> a3) /\\ a2) -> a3) /\\ (((a0 -> a1 -> a2) /\\ a1) -> a0 -> a2) /\\ (ω -> a3 -> a3) /\\ (((a3 -> (a2 -> a1)) /\\ a3 /\\ a2) -> a1) /\\ (((a0 -> a0) /\\ a2) -> (a2 -> a0) -> a0) /\\ (((a1 -> (a3 -> a3)) /\\ a1 /\\ a3) -> a3) /\\ (ω -> a1 -> a1) /\\ (ω -> a1 -> a1) /\\ (((a3 -> a3) /\\ a3) -> a3) /\\ (a2 -> a2) /\\ (((((a2 -> a1) /\\ (a2 -> a2) /\\ a2) -> a1) /\\ (((a2 -> a2) -> a3) -> a3) /\\ (((a0 -> a1) /\\ (a1 -> a1)) -> (a0 /\\ a1) -> (a1 -> a1 -> a3) -> a3) /\\ (((a2 -> a2 -> a3) /\\ a2) -> a2 -> a3) /\\ (a1 -> a1) /\\ (((a3 -> a3) /\\ (a3 -> a3) /\\ (a3 -> a3)) -> a3 -> a3) /\\ ((((a0 -> a0) -> a2) /\\ ((ω -> a0) -> a0)) -> a2) /\\ ((a1 -> a1) -> a1 -> a1) /\\ (((a2 -> a1) /\\ (a0 -> a2) /\\ (a1 -> a0)) -> a1 -> a1) /\\ (((a1 -> a1) /\\ (a2 -> a1)) -> a2 -> a1) /\\ ((a2 -> a0 -> a1) -> (a0 -> a0) -> (a2 /\\ a0) -> a1) /\\ (((a1 -> (a1 -> a2)) /\\ a1 /\\ a1) -> a2) /\\ (((a1 -> a3) /\\ (a2 -> a1)) -> a2 -> a3) /\\ (((a0 -> a2) /\\ (a0 -> a0) /\\ a0) -> a2) /\\ (a1 -> (a1 -> a3) -> a3) /\\ (a3 -> (a3 -> a1) -> a1) /\\ (((a0 -> a3) /\\ a0) -> (a0 -> a0) -> a3) /\\ (ω -> a0 -> a0) /\\ (((a3 -> a3) /\\ (a2 -> a1)) -> (a3 /\\ a2) -> (a3 -> a1 -> a0) -> a0) /\\ (((a0 -> ω -> a0) /\\ ((((a2 -> a3) -> a0) /\\ ((ω -> a2) -> a3)) -> a0) /\\ (((a3 -> (a1 -> a1)) /\\ a3 /\\ a1) -> a1) /\\ (((a3 -> a1) /\\ (a1 -> a2)) -> (a3 /\\ a1) -> (a1 -> a2 -> a2) -> a2) /\\ (a3 -> (a3 -> a1) -> a1) /\\ ((a3 -> a1) -> a3 -> a1) /\\ (ω -> a3 -> a3) /\\ (ω -> a1 -> a1) /\\ (a3 -> a3) /\\ (ω -> a1 -> a1) /\\ ((a1 -> a0 -> a2) -> (a1 -> a0) -> (a1 /\\ a1) -> a2) /\\ (((a0 -> a2 -> a0) /\\ a2) -> a0 -> a0) /\\ (a2 -> a2) /\\ (((a0 -> a2 -> a1) /\\ a2) -> a0 -> a1) /\\ ((((a2 -> a1) -> a1) /\\ ((ω -> a2) -> a1)) -> a1) /\\ ((((ω -> a2) -> a3) /\\ ((a0 -> a0) -> a2)) -> a3) /\\ ((((a3 -> a3) -> a2) /\\ ((ω -> a3) -> a3)) -> a2) /\\ (((a0 -> a3 -> a3 -> a2) /\\ (a0 -> a1)) -> (a0 /\\ (a1 -> a2 -> a3) /\\ a0) -> (a3 /\\ a2) -> a2) /\\ ((a2 -> a1 -> a1) -> (a0 -> a2 -> a1) -> (a0 -> a2) -> (a2 /\\ a0 /\\ a0) -> a1)) -> a0)) -> a1)) -> a2)) -> a3)\n",
      "{a0 -> a3, a1 -> a2, a2 -> a0, a3 -> a1}\n"
     ]
    }
   ],
   "source": [
    "random.seed(1000)\n",
    "t1, s1, r1 = testType(4, 20, 4)\n",
    "print(t1)\n",
    "print(r1)"
   ]
  },
  {
   "cell_type": "code",
   "execution_count": null,
   "metadata": {},
   "outputs": [],
   "source": [
    "%%timeit -r 10 -n 40\n",
    "naiveComparison(t1, s1)\n",
    "#timeout"
   ]
  },
  {
   "cell_type": "code",
   "execution_count": null,
   "metadata": {},
   "outputs": [],
   "source": [
    "%%timeit -r 10 -n 40\n",
    "comparePlain(t1, s1)\n",
    "#timeout"
   ]
  },
  {
   "cell_type": "code",
   "execution_count": null,
   "metadata": {},
   "outputs": [],
   "source": [
    "%%timeit -r 10 -n 40\n",
    "compareConstrProp(t1, s1)\n",
    "#timeout"
   ]
  },
  {
   "cell_type": "code",
   "execution_count": 102,
   "metadata": {},
   "outputs": [
    {
     "name": "stdout",
     "output_type": "stream",
     "text": [
      "1.78 s ± 60.5 ms per loop (mean ± std. dev. of 10 runs, 5 loops each)\n"
     ]
    }
   ],
   "source": [
    "%%timeit -r 10 -n 5\n",
    "assert compareSizeCount(t1, s1) == r1"
   ]
  },
  {
   "cell_type": "code",
   "execution_count": 101,
   "metadata": {},
   "outputs": [
    {
     "name": "stdout",
     "output_type": "stream",
     "text": [
      "CPU times: user 1.76 s, sys: 7.67 ms, total: 1.76 s\n",
      "Wall time: 1.77 s\n"
     ]
    }
   ],
   "source": [
    "%%time\n",
    "assert compareConstrPropSizeCount(t1, s1) == r1"
   ]
  },
  {
   "cell_type": "markdown",
   "metadata": {},
   "source": [
    "### Много переменных\n",
    "\n",
    "Функция manyVariables(vars, width) строит тип так, чтобы там было много пересечений с чистыми переменными"
   ]
  },
  {
   "cell_type": "code",
   "execution_count": 3,
   "metadata": {},
   "outputs": [
    {
     "name": "stdout",
     "output_type": "stream",
     "text": [
      "a4 /\\ a13 /\\ a12 /\\ a0 /\\ a13 /\\ ((((ω -> a3) -> a2) /\\ ((a2 -> a2) -> a3)) -> a2) /\\ ((a9 /\\ a4 /\\ a7 /\\ (((a0 -> a0) -> a0) -> a0) /\\ (((a10 -> a7) /\\ a10) -> a7) /\\ (ω -> a1 -> a1) /\\ ((a5 /\\ a9 /\\ a7 /\\ a13 /\\ a1 /\\ (((a6 -> a5 -> a7) /\\ a5) -> a6 -> a7) /\\ ((a3 /\\ a4 /\\ a6 /\\ a5 /\\ a10 /\\ a3 /\\ ((a2 /\\ a4 /\\ a1 /\\ a0 /\\ (((a0 -> a0) -> a13) -> a13) /\\ ((a13 -> a4 -> a12) -> (a4 -> a8 -> a4) -> (a12 -> a8) -> (a13 /\\ a4 /\\ a12) -> a12) /\\ ((a11 /\\ a3 /\\ a0 /\\ ((a11 -> a12 -> a7) -> (a12 -> a12) -> (a11 /\\ a12) -> a7) /\\ (((a2 -> a11) /\\ (a8 -> a2) /\\ a8) -> a11) /\\ (ω -> a1 -> a1) /\\ ((a0 /\\ a10 /\\ a11 /\\ a7 /\\ a2 /\\ (ω -> a11 -> a11) /\\ (((a10 -> ω -> a10) /\\ (((a1 -> a6) /\\ (a7 -> a1) /\\ (a5 -> a7)) -> a5 -> a6) /\\ (((a6 -> (a8 -> a2)) /\\ a6 /\\ a8) -> a2) /\\ (a3 -> (a3 -> a10) -> a10) /\\ ((((ω -> a7) -> a3) /\\ ((a10 -> a10) -> a7)) -> a3) /\\ (((a10 -> a3) /\\ (a7 -> a12)) -> (a10 /\\ a7) -> (a3 -> a12 -> a5) -> a5)) -> a0)) -> a1)) -> a2)) -> a3)) -> a4)) -> a5)) -> a6)\n",
      "{a0 -> a5, a1 -> a8, a10 -> a13, a11 -> a2, a12 -> a6, a13 -> a7, a2 -> a9, a3 -> a11, a4 -> a1, a5 -> a0, a6 -> a4, a7 -> a10, a8 -> a12, a9 -> a3}\n"
     ]
    }
   ],
   "source": [
    "random.seed(1000)\n",
    "t2, s2, r2 = manyVariables(7, 7)\n",
    "print(t2)\n",
    "print(r2)"
   ]
  },
  {
   "cell_type": "code",
   "execution_count": null,
   "metadata": {},
   "outputs": [],
   "source": [
    "%%time\n",
    "assert naiveComparison(t2, s2) == r2\n",
    "# timeout"
   ]
  },
  {
   "cell_type": "code",
   "execution_count": 9,
   "metadata": {},
   "outputs": [
    {
     "name": "stdout",
     "output_type": "stream",
     "text": [
      "366 ms ± 13 ms per loop (mean ± std. dev. of 10 runs, 10 loops each)\n"
     ]
    }
   ],
   "source": [
    "%%timeit -r 10 -n 10\n",
    "comparePlain(t2, s2)"
   ]
  },
  {
   "cell_type": "code",
   "execution_count": 13,
   "metadata": {},
   "outputs": [
    {
     "name": "stdout",
     "output_type": "stream",
     "text": [
      "12.6 ms ± 1.04 ms per loop (mean ± std. dev. of 10 runs, 40 loops each)\n"
     ]
    }
   ],
   "source": [
    "%%timeit -r 10 -n 40\n",
    "compareSizeCount(t2, s2)"
   ]
  },
  {
   "cell_type": "code",
   "execution_count": 14,
   "metadata": {},
   "outputs": [
    {
     "name": "stdout",
     "output_type": "stream",
     "text": [
      "367 ms ± 16.7 ms per loop (mean ± std. dev. of 10 runs, 10 loops each)\n"
     ]
    }
   ],
   "source": [
    "%%timeit -r 10 -n 10\n",
    "compareConstrProp(t2, s2)"
   ]
  },
  {
   "cell_type": "code",
   "execution_count": 15,
   "metadata": {},
   "outputs": [
    {
     "name": "stdout",
     "output_type": "stream",
     "text": [
      "11 ms ± 375 µs per loop (mean ± std. dev. of 10 runs, 40 loops each)\n"
     ]
    }
   ],
   "source": [
    "%%timeit -r 10 -n 40\n",
    "compareConstrPropSizeCount(t2, s2)"
   ]
  },
  {
   "cell_type": "markdown",
   "metadata": {},
   "source": [
    "Special buggy case to check"
   ]
  },
  {
   "cell_type": "code",
   "execution_count": 16,
   "metadata": {},
   "outputs": [
    {
     "name": "stdout",
     "output_type": "stream",
     "text": [
      "{a -> m, b -> y, x -> c}\n",
      "{a -> m, b -> y, x -> c}\n",
      "{a -> m, b -> y, x -> c}\n",
      "{a -> m, b -> y, x -> c}\n",
      "{a -> m, b -> y, x -> c}\n"
     ]
    }
   ],
   "source": [
    "x = Variable(\"x\")\n",
    "y = Variable(\"y\")\n",
    "m = Variable(\"m\")\n",
    "\n",
    "t = typify([\n",
    "    (a, [b, x]), (b, x)\n",
    "])\n",
    "s = typify([\n",
    "    (m, [c, y]), (y, c)\n",
    "])\n",
    "\n",
    "print(naiveComparison(t, s))\n",
    "print(comparePlain(t, s))\n",
    "print(compareSizeCount(t, s))\n",
    "print(compareConstrProp(t, s))\n",
    "print(compareConstrPropSizeCount(t, s))"
   ]
  }
 ],
 "metadata": {
  "kernelspec": {
   "display_name": "Python 3",
   "language": "python",
   "name": "python3"
  },
  "language_info": {
   "codemirror_mode": {
    "name": "ipython",
    "version": 3
   },
   "file_extension": ".py",
   "mimetype": "text/x-python",
   "name": "python",
   "nbconvert_exporter": "python",
   "pygments_lexer": "ipython3",
   "version": "3.10.13"
  }
 },
 "nbformat": 4,
 "nbformat_minor": 2
}
